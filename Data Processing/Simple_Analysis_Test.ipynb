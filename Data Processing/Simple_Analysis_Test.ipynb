{
 "nbformat": 4,
 "nbformat_minor": 2,
 "metadata": {
  "language_info": {
   "name": "python",
   "codemirror_mode": {
    "name": "ipython",
    "version": 3
   }
  },
  "orig_nbformat": 2,
  "file_extension": ".py",
  "mimetype": "text/x-python",
  "name": "python",
  "npconvert_exporter": "python",
  "pygments_lexer": "ipython3",
  "version": 3
 },
 "cells": [
  {
   "cell_type": "code",
   "execution_count": 6,
   "metadata": {},
   "outputs": [
    {
     "name": "stdout",
     "output_type": "stream",
     "text": "['EMPLOYEE_NAME', 'OFFICE', 'CITY', 'EMPLOYEE_TITLE', 'BIWEEKLY/HOURLY_RATE', 'PAYROLL_TYPE', 'PAY_PERIOD', 'PAY_PERIOD_BEGIN_DATE', 'PAY_PERIOD_END_DATE', 'CHECK_DATE', 'LEGISLATIVE_ENTITY']\n         EMPLOYEE_NAME                         OFFICE      CITY  \\\n0      ABBOT, JUDITH L      SENATOR TOBY ANN STAVISKY  FLUSHING   \n1    ABRAHAM, PRINCY A       MINORITY COUNSEL/PROGRAM    ALBANY   \n2       ABREU, BRIAN A  LEGISLATIVE MESSENGER SERVICE    ALBANY   \n3  ACEVEDO, SAMANTHA I          SENATOR JESSICA RAMOS    ALBANY   \n4       ADAMS, DAVID V        SENATE SERGEANT-AT-ARMS    ALBANY   \n\n             EMPLOYEE_TITLE  BIWEEKLY/HOURLY_RATE PAYROLL_TYPE  PAY_PERIOD  \\\n0         COMMUNITY LIAISON               1076.93           SA          23   \n1         ASSOCIATE COUNSEL               2376.93           RA          23   \n2                 MESSENGER               1173.93           RA          23   \n3        COMMITTEE DIRECTOR               2115.39           RA          23   \n4  SESSION SERGEANT-AT-ARMS                820.95           SA          23   \n\n    PAY_PERIOD_BEGIN_DATE     PAY_PERIOD_END_DATE              CHECK_DATE  \\\n0  02/07/2019 12:00:00 AM  02/20/2019 12:00:00 AM  03/06/2019 12:00:00 AM   \n1  02/07/2019 12:00:00 AM  02/20/2019 12:00:00 AM  03/06/2019 12:00:00 AM   \n2  02/07/2019 12:00:00 AM  02/20/2019 12:00:00 AM  03/06/2019 12:00:00 AM   \n3  02/07/2019 12:00:00 AM  02/20/2019 12:00:00 AM  03/06/2019 12:00:00 AM   \n4  02/07/2019 12:00:00 AM  02/20/2019 12:00:00 AM  03/06/2019 12:00:00 AM   \n\n           LEGISLATIVE_ENTITY  \n0             SENATE EMPLOYEE  \n1             SENATE EMPLOYEE  \n2  JOINT LEGISLATIVE EMPLOYEE  \n3             SENATE EMPLOYEE  \n4             SENATE EMPLOYEE  \n"
    }
   ],
   "source": [
    "import pandas as pd\n",
    "\n",
    "\n",
    "# Import Data from open source socrata.com - payroll",
    "\n",
    "data = pd.read_csv('D:\\Belajar\\Project Py\\Dataset\\Payroll_Report_-_End_Date_2_20_2019.csv', sep=',')\n",
    "Columns = list(data.columns)\n",
    "# Compile the columns name into a list",
    "\n",
    "print(Columns)\n",
    "# Simple view",
    "\n",
    "data.head()"
   ]
  },
  {
   "cell_type": "code",
   "execution_count": 29,
   "metadata": {},
   "outputs": [
    {
     "data": {
      "text/html": "<div>\n<style scoped>\n    .dataframe tbody tr th:only-of-type {\n        vertical-align: middle;\n    }\n\n    .dataframe tbody tr th {\n        vertical-align: top;\n    }\n\n    .dataframe thead th {\n        text-align: right;\n    }\n</style>\n<table border=\"1\" class=\"dataframe\">\n  <thead>\n    <tr style=\"text-align: right;\">\n      <th></th>\n      <th>BIWEEKLY/HOURLY_RATE</th>\n      <th>PAY_PERIOD</th>\n    </tr>\n    <tr>\n      <th>EMPLOYEE_TITLE</th>\n      <th></th>\n      <th></th>\n    </tr>\n  </thead>\n  <tbody>\n    <tr>\n      <th>SECRETARY OF THE SENATE</th>\n      <td>7115.390</td>\n      <td>23</td>\n    </tr>\n    <tr>\n      <th>SECRETARY SENATE FINANCE COMMITTEE</th>\n      <td>6927.885</td>\n      <td>23</td>\n    </tr>\n    <tr>\n      <th>CHIEF OF STAFF/MAJORITY COUNSEL</th>\n      <td>6923.080</td>\n      <td>23</td>\n    </tr>\n    <tr>\n      <th>DIR. CONFERENCE SERVICES</th>\n      <td>6905.200</td>\n      <td>23</td>\n    </tr>\n    <tr>\n      <th>DIRECTOR, SENATE TECHNOLOGY SERVICES</th>\n      <td>6779.120</td>\n      <td>23</td>\n    </tr>\n    <tr>\n      <th>...</th>\n      <td>...</td>\n      <td>...</td>\n    </tr>\n    <tr>\n      <th>LEGIS ANALYST CONST. SVCS SPECIALIST</th>\n      <td>24.000</td>\n      <td>23</td>\n    </tr>\n    <tr>\n      <th>ADMINISTRATIVE ASSISTANT &amp; COLUMBIA</th>\n      <td>18.000</td>\n      <td>23</td>\n    </tr>\n    <tr>\n      <th>SENIOR LIASON</th>\n      <td>16.000</td>\n      <td>23</td>\n    </tr>\n    <tr>\n      <th>INTERN</th>\n      <td>14.800</td>\n      <td>23</td>\n    </tr>\n    <tr>\n      <th>MESSENGER APPRENTICE</th>\n      <td>11.100</td>\n      <td>23</td>\n    </tr>\n  </tbody>\n</table>\n<p>494 rows × 2 columns</p>\n</div>",
      "text/plain": "                                      BIWEEKLY/HOURLY_RATE  PAY_PERIOD\nEMPLOYEE_TITLE                                                        \nSECRETARY OF THE SENATE                           7115.390          23\nSECRETARY SENATE FINANCE COMMITTEE                6927.885          23\nCHIEF OF STAFF/MAJORITY COUNSEL                   6923.080          23\nDIR. CONFERENCE SERVICES                          6905.200          23\nDIRECTOR, SENATE TECHNOLOGY SERVICES              6779.120          23\n...                                                    ...         ...\nLEGIS ANALYST CONST. SVCS SPECIALIST                24.000          23\nADMINISTRATIVE ASSISTANT & COLUMBIA                 18.000          23\nSENIOR LIASON                                       16.000          23\nINTERN                                              14.800          23\nMESSENGER APPRENTICE                                11.100          23\n\n[494 rows x 2 columns]"
     },
     "execution_count": 29,
     "metadata": {},
     "output_type": "execute_result"
    }
   ],
   "source": [
    "# Find out which employee title has the highest mean rate.\n",
    "data.groupby('EMPLOYEE_TITLE').mean().sort_values(by=Columns[4], ascending=False)"
   ]
  },
  {
   "cell_type": "code",
   "execution_count": 64,
   "metadata": {},
   "outputs": [
    {
     "data": {
      "text/html": "<div>\n<style scoped>\n    .dataframe tbody tr th:only-of-type {\n        vertical-align: middle;\n    }\n\n    .dataframe tbody tr th {\n        vertical-align: top;\n    }\n\n    .dataframe thead th {\n        text-align: right;\n    }\n</style>\n<table border=\"1\" class=\"dataframe\">\n  <thead>\n    <tr style=\"text-align: right;\">\n      <th></th>\n      <th>EMPLOYEE_NAME</th>\n      <th>PAYROLL_TYPE</th>\n    </tr>\n  </thead>\n  <tbody>\n    <tr>\n      <th>737</th>\n      <td>MESSINA, JOSEPH R</td>\n      <td>SA</td>\n    </tr>\n    <tr>\n      <th>795</th>\n      <td>NATOLI, DAVID J</td>\n      <td>TE</td>\n    </tr>\n    <tr>\n      <th>855</th>\n      <td>PAULINO, ALEJANDRA N</td>\n      <td>RA</td>\n    </tr>\n  </tbody>\n</table>\n</div>",
      "text/plain": "            EMPLOYEE_NAME PAYROLL_TYPE\n737     MESSINA, JOSEPH R           SA\n795       NATOLI, DAVID J           TE\n855  PAULINO, ALEJANDRA N           RA"
     },
     "execution_count": 64,
     "metadata": {},
     "output_type": "execute_result"
    }
   ],
   "source": [
    "# Who has the highest rate for each payroll type?\n",
    "'''\n",
    "Steps:\n",
    "1. Group By [PAYROLL_TYPE] and select column [BIWEEKLY/HOURLY_RATE]\n",
    "2. Pd.transform, redefine each values to its Max in each group\n",
    "3. Get index that has the same value as column [BIWEEKLY/HOURLY_RATE] in main dataset \n",
    "'''\n",
    "\n",
    "PayType = data['PAYROLL_TYPE'].unique()\n",
    "index = data.groupby(['PAYROLL_TYPE'])[Columns[4]].transform(max) == data[Columns[4]]\n",
    "# Result is..\n",
    "data.loc[index, ['EMPLOYEE_NAME', 'PAYROLL_TYPE']]"
   ]
  },
  {
   "cell_type": "code",
   "execution_count": 66,
   "metadata": {},
   "outputs": [
    {
     "data": {
      "text/plain": "02/07/2019 12:00:00 AM    1203\nName: PAY_PERIOD_BEGIN_DATE, dtype: int64"
     },
     "execution_count": 66,
     "metadata": {},
     "output_type": "execute_result"
    }
   ],
   "source": [
    "# Check for variation in begin_date\n",
    "data['PAY_PERIOD_BEGIN_DATE'].value_counts()"
   ]
  },
  {
   "cell_type": "code",
   "execution_count": null,
   "metadata": {},
   "outputs": [],
   "source": []
  }
 ]
}
